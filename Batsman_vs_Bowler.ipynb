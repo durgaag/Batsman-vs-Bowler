{
 "cells": [
  {
   "cell_type": "code",
   "execution_count": 47,
   "metadata": {},
   "outputs": [],
   "source": [
    "import numpy as np\n",
    "import pandas as pd\n",
    "import matplotlib.pyplot as plt\n",
    "%matplotlib inline\n",
    "import statistics"
   ]
  },
  {
   "cell_type": "code",
   "execution_count": 48,
   "metadata": {},
   "outputs": [],
   "source": [
    "deliveries=pd.read_csv(\"deliveries.csv\")"
   ]
  },
  {
   "cell_type": "code",
   "execution_count": 49,
   "metadata": {},
   "outputs": [
    {
     "data": {
      "text/html": [
       "<div>\n",
       "<style scoped>\n",
       "    .dataframe tbody tr th:only-of-type {\n",
       "        vertical-align: middle;\n",
       "    }\n",
       "\n",
       "    .dataframe tbody tr th {\n",
       "        vertical-align: top;\n",
       "    }\n",
       "\n",
       "    .dataframe thead th {\n",
       "        text-align: right;\n",
       "    }\n",
       "</style>\n",
       "<table border=\"1\" class=\"dataframe\">\n",
       "  <thead>\n",
       "    <tr style=\"text-align: right;\">\n",
       "      <th></th>\n",
       "      <th>match_id</th>\n",
       "      <th>inning</th>\n",
       "      <th>batting_team</th>\n",
       "      <th>bowling_team</th>\n",
       "      <th>over</th>\n",
       "      <th>ball</th>\n",
       "      <th>batsman</th>\n",
       "      <th>non_striker</th>\n",
       "      <th>bowler</th>\n",
       "      <th>is_super_over</th>\n",
       "      <th>...</th>\n",
       "      <th>bye_runs</th>\n",
       "      <th>legbye_runs</th>\n",
       "      <th>noball_runs</th>\n",
       "      <th>penalty_runs</th>\n",
       "      <th>batsman_runs</th>\n",
       "      <th>extra_runs</th>\n",
       "      <th>total_runs</th>\n",
       "      <th>player_dismissed</th>\n",
       "      <th>dismissal_kind</th>\n",
       "      <th>fielder</th>\n",
       "    </tr>\n",
       "  </thead>\n",
       "  <tbody>\n",
       "    <tr>\n",
       "      <th>0</th>\n",
       "      <td>1</td>\n",
       "      <td>1</td>\n",
       "      <td>Sunrisers Hyderabad</td>\n",
       "      <td>Royal Challengers Bangalore</td>\n",
       "      <td>1</td>\n",
       "      <td>1</td>\n",
       "      <td>DA Warner</td>\n",
       "      <td>S Dhawan</td>\n",
       "      <td>TS Mills</td>\n",
       "      <td>0</td>\n",
       "      <td>...</td>\n",
       "      <td>0</td>\n",
       "      <td>0</td>\n",
       "      <td>0</td>\n",
       "      <td>0</td>\n",
       "      <td>0</td>\n",
       "      <td>0</td>\n",
       "      <td>0</td>\n",
       "      <td>NaN</td>\n",
       "      <td>NaN</td>\n",
       "      <td>NaN</td>\n",
       "    </tr>\n",
       "    <tr>\n",
       "      <th>1</th>\n",
       "      <td>1</td>\n",
       "      <td>1</td>\n",
       "      <td>Sunrisers Hyderabad</td>\n",
       "      <td>Royal Challengers Bangalore</td>\n",
       "      <td>1</td>\n",
       "      <td>2</td>\n",
       "      <td>DA Warner</td>\n",
       "      <td>S Dhawan</td>\n",
       "      <td>TS Mills</td>\n",
       "      <td>0</td>\n",
       "      <td>...</td>\n",
       "      <td>0</td>\n",
       "      <td>0</td>\n",
       "      <td>0</td>\n",
       "      <td>0</td>\n",
       "      <td>0</td>\n",
       "      <td>0</td>\n",
       "      <td>0</td>\n",
       "      <td>NaN</td>\n",
       "      <td>NaN</td>\n",
       "      <td>NaN</td>\n",
       "    </tr>\n",
       "    <tr>\n",
       "      <th>2</th>\n",
       "      <td>1</td>\n",
       "      <td>1</td>\n",
       "      <td>Sunrisers Hyderabad</td>\n",
       "      <td>Royal Challengers Bangalore</td>\n",
       "      <td>1</td>\n",
       "      <td>3</td>\n",
       "      <td>DA Warner</td>\n",
       "      <td>S Dhawan</td>\n",
       "      <td>TS Mills</td>\n",
       "      <td>0</td>\n",
       "      <td>...</td>\n",
       "      <td>0</td>\n",
       "      <td>0</td>\n",
       "      <td>0</td>\n",
       "      <td>0</td>\n",
       "      <td>4</td>\n",
       "      <td>0</td>\n",
       "      <td>4</td>\n",
       "      <td>NaN</td>\n",
       "      <td>NaN</td>\n",
       "      <td>NaN</td>\n",
       "    </tr>\n",
       "    <tr>\n",
       "      <th>3</th>\n",
       "      <td>1</td>\n",
       "      <td>1</td>\n",
       "      <td>Sunrisers Hyderabad</td>\n",
       "      <td>Royal Challengers Bangalore</td>\n",
       "      <td>1</td>\n",
       "      <td>4</td>\n",
       "      <td>DA Warner</td>\n",
       "      <td>S Dhawan</td>\n",
       "      <td>TS Mills</td>\n",
       "      <td>0</td>\n",
       "      <td>...</td>\n",
       "      <td>0</td>\n",
       "      <td>0</td>\n",
       "      <td>0</td>\n",
       "      <td>0</td>\n",
       "      <td>0</td>\n",
       "      <td>0</td>\n",
       "      <td>0</td>\n",
       "      <td>NaN</td>\n",
       "      <td>NaN</td>\n",
       "      <td>NaN</td>\n",
       "    </tr>\n",
       "    <tr>\n",
       "      <th>4</th>\n",
       "      <td>1</td>\n",
       "      <td>1</td>\n",
       "      <td>Sunrisers Hyderabad</td>\n",
       "      <td>Royal Challengers Bangalore</td>\n",
       "      <td>1</td>\n",
       "      <td>5</td>\n",
       "      <td>DA Warner</td>\n",
       "      <td>S Dhawan</td>\n",
       "      <td>TS Mills</td>\n",
       "      <td>0</td>\n",
       "      <td>...</td>\n",
       "      <td>0</td>\n",
       "      <td>0</td>\n",
       "      <td>0</td>\n",
       "      <td>0</td>\n",
       "      <td>0</td>\n",
       "      <td>2</td>\n",
       "      <td>2</td>\n",
       "      <td>NaN</td>\n",
       "      <td>NaN</td>\n",
       "      <td>NaN</td>\n",
       "    </tr>\n",
       "  </tbody>\n",
       "</table>\n",
       "<p>5 rows × 21 columns</p>\n",
       "</div>"
      ],
      "text/plain": [
       "   match_id  inning         batting_team                 bowling_team  over  \\\n",
       "0         1       1  Sunrisers Hyderabad  Royal Challengers Bangalore     1   \n",
       "1         1       1  Sunrisers Hyderabad  Royal Challengers Bangalore     1   \n",
       "2         1       1  Sunrisers Hyderabad  Royal Challengers Bangalore     1   \n",
       "3         1       1  Sunrisers Hyderabad  Royal Challengers Bangalore     1   \n",
       "4         1       1  Sunrisers Hyderabad  Royal Challengers Bangalore     1   \n",
       "\n",
       "   ball    batsman non_striker    bowler  is_super_over  ...  bye_runs  \\\n",
       "0     1  DA Warner    S Dhawan  TS Mills              0  ...         0   \n",
       "1     2  DA Warner    S Dhawan  TS Mills              0  ...         0   \n",
       "2     3  DA Warner    S Dhawan  TS Mills              0  ...         0   \n",
       "3     4  DA Warner    S Dhawan  TS Mills              0  ...         0   \n",
       "4     5  DA Warner    S Dhawan  TS Mills              0  ...         0   \n",
       "\n",
       "   legbye_runs  noball_runs  penalty_runs  batsman_runs  extra_runs  \\\n",
       "0            0            0             0             0           0   \n",
       "1            0            0             0             0           0   \n",
       "2            0            0             0             4           0   \n",
       "3            0            0             0             0           0   \n",
       "4            0            0             0             0           2   \n",
       "\n",
       "   total_runs  player_dismissed dismissal_kind fielder  \n",
       "0           0               NaN            NaN     NaN  \n",
       "1           0               NaN            NaN     NaN  \n",
       "2           4               NaN            NaN     NaN  \n",
       "3           0               NaN            NaN     NaN  \n",
       "4           2               NaN            NaN     NaN  \n",
       "\n",
       "[5 rows x 21 columns]"
      ]
     },
     "execution_count": 49,
     "metadata": {},
     "output_type": "execute_result"
    }
   ],
   "source": [
    "deliveries.head()"
   ]
  },
  {
   "cell_type": "code",
   "execution_count": 50,
   "metadata": {},
   "outputs": [
    {
     "data": {
      "text/plain": [
       "Index(['match_id', 'inning', 'batting_team', 'bowling_team', 'over', 'ball',\n",
       "       'batsman', 'non_striker', 'bowler', 'is_super_over', 'wide_runs',\n",
       "       'bye_runs', 'legbye_runs', 'noball_runs', 'penalty_runs',\n",
       "       'batsman_runs', 'extra_runs', 'total_runs', 'player_dismissed',\n",
       "       'dismissal_kind', 'fielder'],\n",
       "      dtype='object')"
      ]
     },
     "execution_count": 50,
     "metadata": {},
     "output_type": "execute_result"
    }
   ],
   "source": [
    "deliveries.columns"
   ]
  },
  {
   "cell_type": "markdown",
   "metadata": {},
   "source": [
    "# THE BATSMANS WITH HIGHEST STRIKE RATE AND IT,S MEAN AND STANDARD DEVIATION."
   ]
  },
  {
   "cell_type": "code",
   "execution_count": 51,
   "metadata": {},
   "outputs": [],
   "source": [
    "a=deliveries.groupby('batsman')['batsman_runs'].count()"
   ]
  },
  {
   "cell_type": "code",
   "execution_count": 52,
   "metadata": {},
   "outputs": [],
   "source": [
    "b=deliveries.groupby('batsman')['batsman_runs'].count()>300"
   ]
  },
  {
   "cell_type": "code",
   "execution_count": 53,
   "metadata": {},
   "outputs": [],
   "source": [
    "c=a[b].index.tolist()"
   ]
  },
  {
   "cell_type": "code",
   "execution_count": 54,
   "metadata": {
    "collapsed": true
   },
   "outputs": [
    {
     "data": {
      "text/plain": [
       "['A Mishra',\n",
       " 'A Symonds',\n",
       " 'AB de Villiers',\n",
       " 'AC Gilchrist',\n",
       " 'AD Mathews',\n",
       " 'AD Russell',\n",
       " 'AJ Finch',\n",
       " 'AL Menaria',\n",
       " 'AM Nayar',\n",
       " 'AM Rahane',\n",
       " 'AR Patel',\n",
       " 'AT Rayudu',\n",
       " 'Azhar Mahmood',\n",
       " 'BB McCullum',\n",
       " 'BJ Hodge',\n",
       " 'CA Pujara',\n",
       " 'CH Gayle',\n",
       " 'CJ Anderson',\n",
       " 'CL White',\n",
       " 'DA Miller',\n",
       " 'DA Warner',\n",
       " 'DB Ravi Teja',\n",
       " 'DJ Bravo',\n",
       " 'DJ Hussey',\n",
       " 'DPMD Jayawardene',\n",
       " 'DR Smith',\n",
       " 'DT Christian',\n",
       " 'EJG Morgan',\n",
       " 'F du Plessis',\n",
       " 'G Gambhir',\n",
       " 'GC Smith',\n",
       " 'GH Vihari',\n",
       " 'GJ Bailey',\n",
       " 'GJ Maxwell',\n",
       " 'HH Gibbs',\n",
       " 'HH Pandya',\n",
       " 'HM Amla',\n",
       " 'Harbhajan Singh',\n",
       " 'IK Pathan',\n",
       " 'J Botha',\n",
       " 'JA Morkel',\n",
       " 'JC Buttler',\n",
       " 'JD Ryder',\n",
       " 'JEC Franklin',\n",
       " 'JH Kallis',\n",
       " 'JP Duminy',\n",
       " 'JP Faulkner',\n",
       " 'JR Hopes',\n",
       " 'KA Pollard',\n",
       " 'KC Sangakkara',\n",
       " 'KD Karthik',\n",
       " 'KH Pandya',\n",
       " 'KK Nair',\n",
       " 'KL Rahul',\n",
       " 'KM Jadhav',\n",
       " 'KP Pietersen',\n",
       " 'KS Williamson',\n",
       " 'LMP Simmons',\n",
       " 'LR Shukla',\n",
       " 'LRPL Taylor',\n",
       " 'M Manhas',\n",
       " 'M Vijay',\n",
       " 'M Vohra',\n",
       " 'MA Agarwal',\n",
       " 'MC Henriques',\n",
       " 'MEK Hussey',\n",
       " 'MK Pandey',\n",
       " 'MK Tiwary',\n",
       " 'ML Hayden',\n",
       " 'MS Bisla',\n",
       " 'MS Dhoni',\n",
       " 'MV Boucher',\n",
       " 'Mandeep Singh',\n",
       " 'N Rana',\n",
       " 'NLTC Perera',\n",
       " 'NV Ojha',\n",
       " 'OA Shah',\n",
       " 'P Kumar',\n",
       " 'PA Patel',\n",
       " 'PC Valthaty',\n",
       " 'PP Chawla',\n",
       " 'Q de Kock',\n",
       " 'R Dravid',\n",
       " 'RA Jadeja',\n",
       " 'RG Sharma',\n",
       " 'RR Pant',\n",
       " 'RS Bopara',\n",
       " 'RV Uthappa',\n",
       " 'S Badrinath',\n",
       " 'S Dhawan',\n",
       " 'S Sohal',\n",
       " 'SA Asnodkar',\n",
       " 'SA Yadav',\n",
       " 'SC Ganguly',\n",
       " 'SE Marsh',\n",
       " 'SK Raina',\n",
       " 'SPD Smith',\n",
       " 'SR Tendulkar',\n",
       " 'SR Watson',\n",
       " 'SS Iyer',\n",
       " 'SS Tiwary',\n",
       " 'ST Jayasuriya',\n",
       " 'STR Binny',\n",
       " 'SV Samson',\n",
       " 'Shakib Al Hasan',\n",
       " 'TL Suman',\n",
       " 'TM Dilshan',\n",
       " 'UBT Chand',\n",
       " 'V Kohli',\n",
       " 'V Sehwag',\n",
       " 'WP Saha',\n",
       " 'Y Venugopal Rao',\n",
       " 'YK Pathan',\n",
       " 'Yuvraj Singh']"
      ]
     },
     "execution_count": 54,
     "metadata": {},
     "output_type": "execute_result"
    }
   ],
   "source": [
    "c"
   ]
  },
  {
   "cell_type": "code",
   "execution_count": 55,
   "metadata": {},
   "outputs": [],
   "source": [
    "new_batsman=deliveries[deliveries['batsman'].isin(c)]"
   ]
  },
  {
   "cell_type": "code",
   "execution_count": 56,
   "metadata": {},
   "outputs": [],
   "source": [
    "new_batsman_runs=new_batsman.groupby('batsman')['batsman_runs'].sum().sort_values(ascending=False)"
   ]
  },
  {
   "cell_type": "code",
   "execution_count": 57,
   "metadata": {},
   "outputs": [
    {
     "data": {
      "text/plain": [
       "batsman\n",
       "SK Raina     4548\n",
       "V Kohli      4423\n",
       "RG Sharma    4207\n",
       "G Gambhir    4132\n",
       "DA Warner    4014\n",
       "Name: batsman_runs, dtype: int64"
      ]
     },
     "execution_count": 57,
     "metadata": {},
     "output_type": "execute_result"
    }
   ],
   "source": [
    "new_batsman_runs.head()"
   ]
  },
  {
   "cell_type": "code",
   "execution_count": 58,
   "metadata": {},
   "outputs": [],
   "source": [
    "new_batsman_balls=new_batsman.groupby('batsman')['batsman_runs'].count().sort_values(ascending=False)"
   ]
  },
  {
   "cell_type": "code",
   "execution_count": 59,
   "metadata": {},
   "outputs": [
    {
     "data": {
      "text/plain": [
       "batsman\n",
       "V Kohli      3494\n",
       "G Gambhir    3433\n",
       "SK Raina     3369\n",
       "RG Sharma    3274\n",
       "S Dhawan     3005\n",
       "Name: batsman_runs, dtype: int64"
      ]
     },
     "execution_count": 59,
     "metadata": {},
     "output_type": "execute_result"
    }
   ],
   "source": [
    "new_batsman_balls.head()"
   ]
  },
  {
   "cell_type": "code",
   "execution_count": 60,
   "metadata": {},
   "outputs": [],
   "source": [
    "strike_rate=[]"
   ]
  },
  {
   "cell_type": "code",
   "execution_count": 61,
   "metadata": {},
   "outputs": [],
   "source": [
    "strike_rate=(((new_batsman_runs/new_batsman_balls)*100).sort_values(ascending=False))"
   ]
  },
  {
   "cell_type": "code",
   "execution_count": 62,
   "metadata": {},
   "outputs": [
    {
     "data": {
      "text/plain": [
       "batsman\n",
       "AD Russell    164.000000\n",
       "GJ Maxwell    157.564103\n",
       "KH Pandya     153.354633\n",
       "V Sehwag      148.827059\n",
       "RR Pant       148.031496\n",
       "Name: batsman_runs, dtype: float64"
      ]
     },
     "execution_count": 62,
     "metadata": {},
     "output_type": "execute_result"
    }
   ],
   "source": [
    "strike_rate.head()"
   ]
  },
  {
   "cell_type": "code",
   "execution_count": 63,
   "metadata": {},
   "outputs": [],
   "source": [
    "mean_batsman=statistics.mean(((new_batsman_runs/new_batsman_balls)*100).sort_values(ascending=False))"
   ]
  },
  {
   "cell_type": "code",
   "execution_count": 64,
   "metadata": {},
   "outputs": [
    {
     "data": {
      "text/plain": [
       "123.12569532943265"
      ]
     },
     "execution_count": 64,
     "metadata": {},
     "output_type": "execute_result"
    }
   ],
   "source": [
    "mean_batsman"
   ]
  },
  {
   "cell_type": "code",
   "execution_count": 65,
   "metadata": {},
   "outputs": [],
   "source": [
    "sd_batsman=statistics.stdev(((new_batsman_runs/new_batsman_balls)*100).sort_values(ascending=False))"
   ]
  },
  {
   "cell_type": "code",
   "execution_count": 66,
   "metadata": {},
   "outputs": [
    {
     "data": {
      "text/plain": [
       "12.593434238460521"
      ]
     },
     "execution_count": 66,
     "metadata": {},
     "output_type": "execute_result"
    }
   ],
   "source": [
    "sd_batsman"
   ]
  },
  {
   "cell_type": "markdown",
   "metadata": {},
   "source": [
    "# THE BOWLER  WITH LOWEST ECONOMY  RATE AND IT'S MEAN AND STANDARD DEVIATION."
   ]
  },
  {
   "cell_type": "code",
   "execution_count": 67,
   "metadata": {},
   "outputs": [
    {
     "data": {
      "text/plain": [
       "caught                   4373\n",
       "bowled                   1382\n",
       "run out                   755\n",
       "lbw                       455\n",
       "stumped                   243\n",
       "caught and bowled         211\n",
       "hit wicket                  9\n",
       "retired hurt                9\n",
       "obstructing the field       1\n",
       "Name: dismissal_kind, dtype: int64"
      ]
     },
     "execution_count": 67,
     "metadata": {},
     "output_type": "execute_result"
    }
   ],
   "source": [
    "deliveries['dismissal_kind'].value_counts()"
   ]
  },
  {
   "cell_type": "code",
   "execution_count": 68,
   "metadata": {},
   "outputs": [],
   "source": [
    "dismissal=['caught','bowled','lbw','stumped','caught and bowled','hit wicket']\n",
    "out=deliveries[deliveries['dismissal_kind'].isin(dismissal)]\n",
    "bowler=out.groupby('bowler')['dismissal_kind'].count().sort_values(ascending=False)"
   ]
  },
  {
   "cell_type": "code",
   "execution_count": 69,
   "metadata": {},
   "outputs": [],
   "source": [
    "x=deliveries.groupby('bowler')['total_runs'].count()"
   ]
  },
  {
   "cell_type": "code",
   "execution_count": 70,
   "metadata": {},
   "outputs": [],
   "source": [
    "y=deliveries.groupby('bowler')['total_runs'].count()>100"
   ]
  },
  {
   "cell_type": "code",
   "execution_count": 71,
   "metadata": {},
   "outputs": [],
   "source": [
    "d=x[y].index.tolist()"
   ]
  },
  {
   "cell_type": "code",
   "execution_count": 91,
   "metadata": {
    "collapsed": true
   },
   "outputs": [
    {
     "data": {
      "text/plain": [
       "['A Ashish Reddy',\n",
       " 'A Chandila',\n",
       " 'A Choudhary',\n",
       " 'A Kumble',\n",
       " 'A Mishra',\n",
       " 'A Mithun',\n",
       " 'A Nehra',\n",
       " 'A Singh',\n",
       " 'A Symonds',\n",
       " 'A Zampa',\n",
       " 'AA Chavan',\n",
       " 'AB Agarkar',\n",
       " 'AB Dinda',\n",
       " 'AB McDonald',\n",
       " 'AC Thomas',\n",
       " 'AD Mascarenhas',\n",
       " 'AD Mathews',\n",
       " 'AD Russell',\n",
       " 'AF Milne',\n",
       " 'AG Murtaza',\n",
       " 'AJ Tye',\n",
       " 'AL Menaria',\n",
       " 'AM Nayar',\n",
       " 'AM Salvi',\n",
       " 'AN Ahmed',\n",
       " 'AR Patel',\n",
       " 'AS Rajpoot',\n",
       " 'Anand Rajan',\n",
       " 'Ankit Sharma',\n",
       " 'Ankit Soni',\n",
       " 'Anureet Singh',\n",
       " 'Azhar Mahmood',\n",
       " 'B Akhil',\n",
       " 'B Kumar',\n",
       " 'B Lee',\n",
       " 'BA Bhatt',\n",
       " 'BA Stokes',\n",
       " 'BAW Mendis',\n",
       " 'BB Sran',\n",
       " 'BCJ Cutting',\n",
       " 'BE Hendricks',\n",
       " 'BJ Hodge',\n",
       " 'BW Hilfenhaus',\n",
       " 'Basil Thampi',\n",
       " 'Bipul Sharma',\n",
       " 'C de Grandhomme',\n",
       " 'CH Gayle',\n",
       " 'CH Morris',\n",
       " 'CJ Anderson',\n",
       " 'CJ Jordan',\n",
       " 'CK Langeveldt',\n",
       " 'CR Brathwaite',\n",
       " 'CR Woakes',\n",
       " 'CRD Fernando',\n",
       " 'D Wiese',\n",
       " 'DE Bollinger',\n",
       " 'DJ Bravo',\n",
       " 'DJ Hooda',\n",
       " 'DJ Hussey',\n",
       " 'DJG Sammy',\n",
       " 'DL Vettori',\n",
       " 'DP Nannes',\n",
       " 'DP Vijaykumar',\n",
       " 'DR Smith',\n",
       " 'DS Kulkarni',\n",
       " 'DT Christian',\n",
       " 'DW Steyn',\n",
       " 'FH Edwards',\n",
       " 'GB Hogg',\n",
       " 'GD McGrath',\n",
       " 'GJ Maxwell',\n",
       " 'HH Pandya',\n",
       " 'HV Patel',\n",
       " 'Harbhajan Singh',\n",
       " 'Harmeet Singh',\n",
       " 'I Sharma',\n",
       " 'IC Pandey',\n",
       " 'IK Pathan',\n",
       " 'Imran Tahir',\n",
       " 'Iqbal Abdulla',\n",
       " 'J Botha',\n",
       " 'J Suchith',\n",
       " 'J Syed Mohammad',\n",
       " 'J Theron',\n",
       " 'J Yadav',\n",
       " 'JA Morkel',\n",
       " 'JD Ryder',\n",
       " 'JD Unadkat',\n",
       " 'JDP Oram',\n",
       " 'JE Taylor',\n",
       " 'JEC Franklin',\n",
       " 'JH Kallis',\n",
       " 'JJ Bumrah',\n",
       " 'JO Holder',\n",
       " 'JP Duminy',\n",
       " 'JP Faulkner',\n",
       " 'JR Hopes',\n",
       " 'Jaskaran Singh',\n",
       " 'Joginder Sharma',\n",
       " 'K Rabada',\n",
       " 'KA Pollard',\n",
       " 'KC Cariappa',\n",
       " 'KH Pandya',\n",
       " 'KJ Abbott',\n",
       " 'KK Cooper',\n",
       " 'KMDN Kulasekara',\n",
       " 'KP Appanna',\n",
       " 'KP Pietersen',\n",
       " 'KV Sharma',\n",
       " 'KW Richardson',\n",
       " 'Kamran Khan',\n",
       " 'Karanveer Singh',\n",
       " 'Kuldeep Yadav',\n",
       " 'L Balaji',\n",
       " 'LR Shukla',\n",
       " 'M Ashwin',\n",
       " 'M Kartik',\n",
       " 'M Morkel',\n",
       " 'M Muralitharan',\n",
       " 'M Ntini',\n",
       " 'M de Lange',\n",
       " 'MA Starc',\n",
       " 'MC Henriques',\n",
       " 'MF Maharoof',\n",
       " 'MG Johnson',\n",
       " 'MJ McClenaghan',\n",
       " 'MM Patel',\n",
       " 'MM Sharma',\n",
       " 'MN Samuels',\n",
       " 'MP Stoinis',\n",
       " 'MR Marsh',\n",
       " 'MS Gony',\n",
       " 'Mohammad Asif',\n",
       " 'Mohammed Shami',\n",
       " 'Mohammed Siraj',\n",
       " 'Mustafizur Rahman',\n",
       " 'NLTC Perera',\n",
       " 'NM Coulter-Nile',\n",
       " 'P Amarnath',\n",
       " 'P Awana',\n",
       " 'P Kumar',\n",
       " 'P Negi',\n",
       " 'P Parameswaran',\n",
       " 'P Sahu',\n",
       " 'P Suyal',\n",
       " 'PC Valthaty',\n",
       " 'PJ Cummins',\n",
       " 'PJ Sangwan',\n",
       " 'PP Chawla',\n",
       " 'PP Ojha',\n",
       " 'PV Tambe',\n",
       " 'Pankaj Singh',\n",
       " 'Parvez Rasool',\n",
       " 'R Ashwin',\n",
       " 'R Bhatia',\n",
       " 'R Dhawan',\n",
       " 'R McLaren',\n",
       " 'R Rampaul',\n",
       " 'R Sathish',\n",
       " 'R Sharma',\n",
       " 'R Shukla',\n",
       " 'R Tewatia',\n",
       " 'R Vinay Kumar',\n",
       " 'RA Jadeja',\n",
       " 'RE van der Merwe',\n",
       " 'RG Sharma',\n",
       " 'RJ Harris',\n",
       " 'RP Singh',\n",
       " 'RR Powar',\n",
       " 'RR Raje',\n",
       " 'RS Bopara',\n",
       " 'Rashid Khan',\n",
       " 'S Aravind',\n",
       " 'S Badree',\n",
       " 'S Gopal',\n",
       " 'S Kaul',\n",
       " 'S Kaushik',\n",
       " 'S Ladda',\n",
       " 'S Nadeem',\n",
       " 'S Narwal',\n",
       " 'S Randiv',\n",
       " 'S Sreesanth',\n",
       " 'S Tyagi',\n",
       " 'SB Bangar',\n",
       " 'SB Jakati',\n",
       " 'SB Styris',\n",
       " 'SB Wagh',\n",
       " 'SC Ganguly',\n",
       " 'SE Bond',\n",
       " 'SJ Srivastava',\n",
       " 'SK Raina',\n",
       " 'SK Trivedi',\n",
       " 'SK Warne',\n",
       " 'SL Malinga',\n",
       " 'SM Pollock',\n",
       " 'SMSM Senanayake',\n",
       " 'SN Thakur',\n",
       " 'SP Narine',\n",
       " 'SR Watson',\n",
       " 'ST Jayasuriya',\n",
       " 'STR Binny',\n",
       " 'SW Tait',\n",
       " 'Sandeep Sharma',\n",
       " 'Shahid Afridi',\n",
       " 'Shakib Al Hasan',\n",
       " 'Shivam Sharma',\n",
       " 'Shoaib Ahmed',\n",
       " 'Sohail Tanvir',\n",
       " 'T Thushara',\n",
       " 'TA Boult',\n",
       " 'TG Southee',\n",
       " 'TL Suman',\n",
       " 'TM Dilshan',\n",
       " 'TS Mills',\n",
       " 'UT Yadav',\n",
       " 'Umar Gul',\n",
       " 'V Kohli',\n",
       " 'V Pratap Singh',\n",
       " 'V Sehwag',\n",
       " 'VR Aaron',\n",
       " 'VRV Singh',\n",
       " 'VS Malik',\n",
       " 'VY Mahesh',\n",
       " 'WD Parnell',\n",
       " 'WPUJC Vaas',\n",
       " 'Washington Sundar',\n",
       " 'Y Venugopal Rao',\n",
       " 'YA Abdulla',\n",
       " 'YK Pathan',\n",
       " 'YS Chahal',\n",
       " 'Yuvraj Singh',\n",
       " 'Z Khan']"
      ]
     },
     "execution_count": 91,
     "metadata": {},
     "output_type": "execute_result"
    }
   ],
   "source": [
    "d"
   ]
  },
  {
   "cell_type": "code",
   "execution_count": 73,
   "metadata": {},
   "outputs": [],
   "source": [
    "new_bowler=deliveries[deliveries['bowler'].isin(d)]"
   ]
  },
  {
   "cell_type": "code",
   "execution_count": 74,
   "metadata": {},
   "outputs": [],
   "source": [
    "new_bowler_runs=new_bowler.groupby('bowler')['total_runs'].sum().sort_values(ascending=False)"
   ]
  },
  {
   "cell_type": "code",
   "execution_count": 99,
   "metadata": {
    "collapsed": true
   },
   "outputs": [
    {
     "data": {
      "text/plain": [
       "bowler\n",
       "Harbhajan Singh      3453\n",
       "P Kumar              3342\n",
       "PP Chawla            3315\n",
       "A Mishra             3305\n",
       "SL Malinga           3034\n",
       "R Vinay Kumar        2976\n",
       "Z Khan               2860\n",
       "DJ Bravo             2815\n",
       "UT Yadav             2802\n",
       "IK Pathan            2711\n",
       "R Ashwin             2552\n",
       "RA Jadeja            2540\n",
       "A Nehra              2537\n",
       "SR Watson            2490\n",
       "RP Singh             2417\n",
       "B Kumar              2410\n",
       "JA Morkel            2409\n",
       "PP Ojha              2399\n",
       "DW Steyn             2375\n",
       "JH Kallis            2348\n",
       "I Sharma             2291\n",
       "M Morkel             2136\n",
       "AB Dinda             2103\n",
       "MM Sharma            2088\n",
       "SP Narine            2085\n",
       "L Balaji             2083\n",
       "R Bhatia             2059\n",
       "SK Trivedi           1944\n",
       "DS Kulkarni          1918\n",
       "JP Faulkner          1849\n",
       "                     ... \n",
       "DP Vijaykumar         205\n",
       "AM Salvi              205\n",
       "S Narwal              203\n",
       "CK Langeveldt         199\n",
       "Umar Gul              198\n",
       "K Rabada              198\n",
       "TL Suman              198\n",
       "J Yadav               197\n",
       "Washington Sundar     189\n",
       "AF Milne              185\n",
       "KJ Abbott             182\n",
       "Jaskaran Singh        174\n",
       "M de Lange            171\n",
       "JE Taylor             167\n",
       "Shivam Sharma         165\n",
       "T Thushara            164\n",
       "FH Edwards            160\n",
       "TS Mills              157\n",
       "S Gopal               155\n",
       "Shoaib Ahmed          154\n",
       "P Suyal               154\n",
       "P Sahu                152\n",
       "SB Wagh               147\n",
       "AJ Tye                146\n",
       "Ankit Soni            145\n",
       "AL Menaria            144\n",
       "A Choudhary           144\n",
       "R Tewatia             141\n",
       "C de Grandhomme       136\n",
       "KMDN Kulasekara       122\n",
       "Name: total_runs, Length: 232, dtype: int64"
      ]
     },
     "execution_count": 99,
     "metadata": {},
     "output_type": "execute_result"
    }
   ],
   "source": [
    "new_bowler_runs"
   ]
  },
  {
   "cell_type": "code",
   "execution_count": 76,
   "metadata": {},
   "outputs": [],
   "source": [
    "new_bowler_balls=new_bowler.groupby('bowler')['total_runs'].count().sort_values(ascending=False)"
   ]
  },
  {
   "cell_type": "code",
   "execution_count": 100,
   "metadata": {
    "collapsed": true
   },
   "outputs": [
    {
     "data": {
      "text/plain": [
       "bowler\n",
       "Harbhajan Singh    2989\n",
       "A Mishra           2703\n",
       "SL Malinga         2694\n",
       "P Kumar            2637\n",
       "PP Chawla          2594\n",
       "R Ashwin           2359\n",
       "Z Khan             2276\n",
       "R Vinay Kumar      2161\n",
       "DW Steyn           2159\n",
       "IK Pathan          2113\n",
       "DJ Bravo           2110\n",
       "B Kumar            2054\n",
       "UT Yadav           2033\n",
       "A Nehra            1974\n",
       "RA Jadeja          1962\n",
       "SR Watson          1961\n",
       "SP Narine          1956\n",
       "PP Ojha            1945\n",
       "RP Singh           1874\n",
       "JA Morkel          1807\n",
       "JH Kallis          1799\n",
       "I Sharma           1713\n",
       "M Morkel           1699\n",
       "R Bhatia           1661\n",
       "AB Dinda           1589\n",
       "M Muralitharan     1581\n",
       "L Balaji           1574\n",
       "MM Sharma          1566\n",
       "SK Trivedi         1557\n",
       "DS Kulkarni        1485\n",
       "                   ... \n",
       "FH Edwards          150\n",
       "RR Raje             144\n",
       "T Thushara          144\n",
       "R Sathish           144\n",
       "S Ladda             141\n",
       "Mohammed Siraj      141\n",
       "V Sehwag            138\n",
       "K Rabada            137\n",
       "P Amarnath          132\n",
       "R Shukla            130\n",
       "AJ Tye              128\n",
       "R Tewatia           128\n",
       "JE Taylor           122\n",
       "S Gopal             116\n",
       "M de Lange          116\n",
       "AF Milne            115\n",
       "Shivam Sharma       114\n",
       "AL Menaria          113\n",
       "S Narwal            113\n",
       "Ankit Soni          112\n",
       "TS Mills            111\n",
       "Jaskaran Singh      111\n",
       "SB Wagh             108\n",
       "A Choudhary         108\n",
       "KMDN Kulasekara     107\n",
       "P Suyal             107\n",
       "P Sahu              107\n",
       "Shoaib Ahmed        103\n",
       "KJ Abbott           102\n",
       "C de Grandhomme     102\n",
       "Name: total_runs, Length: 232, dtype: int64"
      ]
     },
     "execution_count": 100,
     "metadata": {},
     "output_type": "execute_result"
    }
   ],
   "source": [
    "new_bowler_balls"
   ]
  },
  {
   "cell_type": "code",
   "execution_count": 78,
   "metadata": {},
   "outputs": [],
   "source": [
    "bowler_overs=(new_bowler_balls/6)"
   ]
  },
  {
   "cell_type": "code",
   "execution_count": 79,
   "metadata": {},
   "outputs": [],
   "source": [
    "economy_rate=[]"
   ]
  },
  {
   "cell_type": "code",
   "execution_count": 80,
   "metadata": {},
   "outputs": [],
   "source": [
    "economy_rate=(new_bowler_runs/bowler_overs).sort_values(ascending=True)"
   ]
  },
  {
   "cell_type": "code",
   "execution_count": 81,
   "metadata": {
    "collapsed": true
   },
   "outputs": [
    {
     "data": {
      "text/plain": [
       "bowler\n",
       "Sohail Tanvir        6.226415\n",
       "Washington Sundar    6.230769\n",
       "A Chandila           6.282051\n",
       "SP Narine            6.395706\n",
       "FH Edwards           6.400000\n",
       "Name: total_runs, dtype: float64"
      ]
     },
     "execution_count": 81,
     "metadata": {},
     "output_type": "execute_result"
    }
   ],
   "source": [
    "economy_rate.head()"
   ]
  },
  {
   "cell_type": "code",
   "execution_count": 82,
   "metadata": {},
   "outputs": [],
   "source": [
    "mean_bowler=statistics.mean((new_bowler_runs/bowler_overs).sort_values(ascending=False))"
   ]
  },
  {
   "cell_type": "code",
   "execution_count": 83,
   "metadata": {},
   "outputs": [
    {
     "data": {
      "text/plain": [
       "7.969271274565699"
      ]
     },
     "execution_count": 83,
     "metadata": {},
     "output_type": "execute_result"
    }
   ],
   "source": [
    "mean_bowler"
   ]
  },
  {
   "cell_type": "code",
   "execution_count": 84,
   "metadata": {},
   "outputs": [],
   "source": [
    "sd_bowler=statistics.stdev((new_bowler_runs/bowler_overs).sort_values(ascending=False))"
   ]
  },
  {
   "cell_type": "code",
   "execution_count": 85,
   "metadata": {},
   "outputs": [
    {
     "data": {
      "text/plain": [
       "0.8270323641957655"
      ]
     },
     "execution_count": 85,
     "metadata": {},
     "output_type": "execute_result"
    }
   ],
   "source": [
    "sd_bowler"
   ]
  },
  {
   "cell_type": "markdown",
   "metadata": {},
   "source": [
    "# Function to tell better player between a batsman and a bowler:"
   ]
  },
  {
   "cell_type": "code",
   "execution_count": 87,
   "metadata": {},
   "outputs": [],
   "source": [
    "def batsman_vs_bowler():\n",
    "    print(\"Enter Batsman name\")\n",
    "    batsman_name=input()\n",
    "    score=strike_rate[batsman_name]\n",
    "    z_batsman=(score-mean_batsman)/sd_batsman\n",
    "\n",
    "    print(\"Enter Bowler name\")\n",
    "    bowler_name=input()\n",
    "    score1=economy_rate[bowler_name]\n",
    "    z_bowler=(mean_bowler-score1)/sd_bowler\n",
    "    \n",
    "    if(z_batsman>z_bowler):\n",
    "        print(\"The player better among them is:\"+batsman_name)\n",
    "    else:\n",
    "        print(\"The player better among them is:\"+bowler_name)"
   ]
  },
  {
   "cell_type": "code",
   "execution_count": 89,
   "metadata": {},
   "outputs": [
    {
     "name": "stdout",
     "output_type": "stream",
     "text": [
      "Enter Batsman name\n",
      "AD Russell\n",
      "Enter Bowler name\n",
      "Sohail Tanvir\n",
      "The player better among them is:AD Russell\n"
     ]
    }
   ],
   "source": [
    "batsman_vs_bowler()"
   ]
  },
  {
   "cell_type": "code",
   "execution_count": 94,
   "metadata": {},
   "outputs": [
    {
     "name": "stdout",
     "output_type": "stream",
     "text": [
      "Enter Batsman name\n",
      "MS Dhoni\n",
      "Enter Bowler name\n",
      "Harbhajan Singh\n",
      "The player better among them is:Harbhajan Singh\n"
     ]
    }
   ],
   "source": [
    "batsman_vs_bowler()\n"
   ]
  },
  {
   "cell_type": "code",
   "execution_count": null,
   "metadata": {},
   "outputs": [],
   "source": []
  }
 ],
 "metadata": {
  "kernelspec": {
   "display_name": "Python 3",
   "language": "python",
   "name": "python3"
  },
  "language_info": {
   "codemirror_mode": {
    "name": "ipython",
    "version": 3
   },
   "file_extension": ".py",
   "mimetype": "text/x-python",
   "name": "python",
   "nbconvert_exporter": "python",
   "pygments_lexer": "ipython3",
   "version": "3.7.3"
  }
 },
 "nbformat": 4,
 "nbformat_minor": 2
}
